{
 "cells": [
  {
   "cell_type": "markdown",
   "metadata": {
    "id": "CgPkafcBClHA"
   },
   "source": [
    "# Importing Libraries"
   ]
  },
  {
   "cell_type": "code",
   "execution_count": 1,
   "metadata": {
    "id": "NipDpuvkCmi6"
   },
   "outputs": [],
   "source": [
    "import pandas as pd\n",
    "import numpy as np\n",
    "import matplotlib.pyplot as plt"
   ]
  },
  {
   "cell_type": "markdown",
   "metadata": {
    "id": "UxC9ci-KDQoW"
   },
   "source": [
    "#Uploading Datasets"
   ]
  },
  {
   "cell_type": "code",
   "execution_count": 3,
   "metadata": {
    "id": "B_vpinNiCxTc"
   },
   "outputs": [],
   "source": [
    "data=pd.read_csv(\"compresive_strength_concrete.csv\")"
   ]
  },
  {
   "cell_type": "code",
   "execution_count": 4,
   "metadata": {
    "colab": {
     "base_uri": "https://localhost:8080/"
    },
    "id": "VcJwnsAHIgRW",
    "outputId": "ae5e6e22-0e87-46ca-b520-c9336626e6df"
   },
   "outputs": [
    {
     "data": {
      "text/plain": [
       "(1030, 9)"
      ]
     },
     "execution_count": 4,
     "metadata": {},
     "output_type": "execute_result"
    }
   ],
   "source": [
    "data.shape"
   ]
  },
  {
   "cell_type": "code",
   "execution_count": 5,
   "metadata": {
    "colab": {
     "base_uri": "https://localhost:8080/",
     "height": 326
    },
    "id": "U0yFP1M6Ikh-",
    "outputId": "769d5d3e-3100-4b3a-b009-cc08487e88a3"
   },
   "outputs": [
    {
     "data": {
      "text/html": [
       "<div>\n",
       "<style scoped>\n",
       "    .dataframe tbody tr th:only-of-type {\n",
       "        vertical-align: middle;\n",
       "    }\n",
       "\n",
       "    .dataframe tbody tr th {\n",
       "        vertical-align: top;\n",
       "    }\n",
       "\n",
       "    .dataframe thead th {\n",
       "        text-align: right;\n",
       "    }\n",
       "</style>\n",
       "<table border=\"1\" class=\"dataframe\">\n",
       "  <thead>\n",
       "    <tr style=\"text-align: right;\">\n",
       "      <th></th>\n",
       "      <th>Cement (component 1)(kg in a m^3 mixture)</th>\n",
       "      <th>Blast Furnace Slag (component 2)(kg in a m^3 mixture)</th>\n",
       "      <th>Fly Ash (component 3)(kg in a m^3 mixture)</th>\n",
       "      <th>Water  (component 4)(kg in a m^3 mixture)</th>\n",
       "      <th>Superplasticizer (component 5)(kg in a m^3 mixture)</th>\n",
       "      <th>Coarse Aggregate  (component 6)(kg in a m^3 mixture)</th>\n",
       "      <th>Fine Aggregate (component 7)(kg in a m^3 mixture)</th>\n",
       "      <th>Age (day)</th>\n",
       "      <th>Concrete compressive strength(MPa, megapascals)</th>\n",
       "    </tr>\n",
       "  </thead>\n",
       "  <tbody>\n",
       "    <tr>\n",
       "      <th>0</th>\n",
       "      <td>540.0</td>\n",
       "      <td>0.0</td>\n",
       "      <td>0.0</td>\n",
       "      <td>162.0</td>\n",
       "      <td>2.5</td>\n",
       "      <td>1040.0</td>\n",
       "      <td>676.0</td>\n",
       "      <td>28</td>\n",
       "      <td>79.99</td>\n",
       "    </tr>\n",
       "    <tr>\n",
       "      <th>1</th>\n",
       "      <td>540.0</td>\n",
       "      <td>0.0</td>\n",
       "      <td>0.0</td>\n",
       "      <td>162.0</td>\n",
       "      <td>2.5</td>\n",
       "      <td>1055.0</td>\n",
       "      <td>676.0</td>\n",
       "      <td>28</td>\n",
       "      <td>61.89</td>\n",
       "    </tr>\n",
       "    <tr>\n",
       "      <th>2</th>\n",
       "      <td>332.5</td>\n",
       "      <td>142.5</td>\n",
       "      <td>0.0</td>\n",
       "      <td>228.0</td>\n",
       "      <td>0.0</td>\n",
       "      <td>932.0</td>\n",
       "      <td>594.0</td>\n",
       "      <td>270</td>\n",
       "      <td>40.27</td>\n",
       "    </tr>\n",
       "    <tr>\n",
       "      <th>3</th>\n",
       "      <td>332.5</td>\n",
       "      <td>142.5</td>\n",
       "      <td>0.0</td>\n",
       "      <td>228.0</td>\n",
       "      <td>0.0</td>\n",
       "      <td>932.0</td>\n",
       "      <td>594.0</td>\n",
       "      <td>365</td>\n",
       "      <td>41.05</td>\n",
       "    </tr>\n",
       "    <tr>\n",
       "      <th>4</th>\n",
       "      <td>198.6</td>\n",
       "      <td>132.4</td>\n",
       "      <td>0.0</td>\n",
       "      <td>192.0</td>\n",
       "      <td>0.0</td>\n",
       "      <td>978.4</td>\n",
       "      <td>825.5</td>\n",
       "      <td>360</td>\n",
       "      <td>44.30</td>\n",
       "    </tr>\n",
       "  </tbody>\n",
       "</table>\n",
       "</div>"
      ],
      "text/plain": [
       "   Cement (component 1)(kg in a m^3 mixture)  \\\n",
       "0                                      540.0   \n",
       "1                                      540.0   \n",
       "2                                      332.5   \n",
       "3                                      332.5   \n",
       "4                                      198.6   \n",
       "\n",
       "   Blast Furnace Slag (component 2)(kg in a m^3 mixture)  \\\n",
       "0                                                0.0       \n",
       "1                                                0.0       \n",
       "2                                              142.5       \n",
       "3                                              142.5       \n",
       "4                                              132.4       \n",
       "\n",
       "   Fly Ash (component 3)(kg in a m^3 mixture)  \\\n",
       "0                                         0.0   \n",
       "1                                         0.0   \n",
       "2                                         0.0   \n",
       "3                                         0.0   \n",
       "4                                         0.0   \n",
       "\n",
       "   Water  (component 4)(kg in a m^3 mixture)  \\\n",
       "0                                      162.0   \n",
       "1                                      162.0   \n",
       "2                                      228.0   \n",
       "3                                      228.0   \n",
       "4                                      192.0   \n",
       "\n",
       "   Superplasticizer (component 5)(kg in a m^3 mixture)  \\\n",
       "0                                                2.5     \n",
       "1                                                2.5     \n",
       "2                                                0.0     \n",
       "3                                                0.0     \n",
       "4                                                0.0     \n",
       "\n",
       "   Coarse Aggregate  (component 6)(kg in a m^3 mixture)  \\\n",
       "0                                             1040.0      \n",
       "1                                             1055.0      \n",
       "2                                              932.0      \n",
       "3                                              932.0      \n",
       "4                                              978.4      \n",
       "\n",
       "   Fine Aggregate (component 7)(kg in a m^3 mixture)  Age (day)  \\\n",
       "0                                              676.0         28   \n",
       "1                                              676.0         28   \n",
       "2                                              594.0        270   \n",
       "3                                              594.0        365   \n",
       "4                                              825.5        360   \n",
       "\n",
       "   Concrete compressive strength(MPa, megapascals)   \n",
       "0                                             79.99  \n",
       "1                                             61.89  \n",
       "2                                             40.27  \n",
       "3                                             41.05  \n",
       "4                                             44.30  "
      ]
     },
     "execution_count": 5,
     "metadata": {},
     "output_type": "execute_result"
    }
   ],
   "source": [
    "data.head()"
   ]
  },
  {
   "cell_type": "code",
   "execution_count": 6,
   "metadata": {},
   "outputs": [
    {
     "data": {
      "text/plain": [
       "Cement (component 1)(kg in a m^3 mixture)                0\n",
       "Blast Furnace Slag (component 2)(kg in a m^3 mixture)    0\n",
       "Fly Ash (component 3)(kg in a m^3 mixture)               0\n",
       "Water  (component 4)(kg in a m^3 mixture)                0\n",
       "Superplasticizer (component 5)(kg in a m^3 mixture)      0\n",
       "Coarse Aggregate  (component 6)(kg in a m^3 mixture)     0\n",
       "Fine Aggregate (component 7)(kg in a m^3 mixture)        0\n",
       "Age (day)                                                0\n",
       "Concrete compressive strength(MPa, megapascals)          0\n",
       "dtype: int64"
      ]
     },
     "execution_count": 6,
     "metadata": {},
     "output_type": "execute_result"
    }
   ],
   "source": [
    "data.isnull().sum()"
   ]
  },
  {
   "cell_type": "code",
   "execution_count": 7,
   "metadata": {},
   "outputs": [
    {
     "data": {
      "text/plain": [
       "(array([], dtype=int64), array([], dtype=int64))"
      ]
     },
     "execution_count": 7,
     "metadata": {},
     "output_type": "execute_result"
    }
   ],
   "source": [
    "np.where(data.applymap(lambda x: x == ''))"
   ]
  },
  {
   "cell_type": "code",
   "execution_count": 8,
   "metadata": {},
   "outputs": [],
   "source": [
    "X_train = data.sample(frac = 0.7, random_state = 123)\n",
    "X_test = data.drop(X_train.index)"
   ]
  },
  {
   "cell_type": "code",
   "execution_count": 9,
   "metadata": {},
   "outputs": [
    {
     "data": {
      "text/html": [
       "<div>\n",
       "<style scoped>\n",
       "    .dataframe tbody tr th:only-of-type {\n",
       "        vertical-align: middle;\n",
       "    }\n",
       "\n",
       "    .dataframe tbody tr th {\n",
       "        vertical-align: top;\n",
       "    }\n",
       "\n",
       "    .dataframe thead th {\n",
       "        text-align: right;\n",
       "    }\n",
       "</style>\n",
       "<table border=\"1\" class=\"dataframe\">\n",
       "  <thead>\n",
       "    <tr style=\"text-align: right;\">\n",
       "      <th></th>\n",
       "      <th>Cement (component 1)(kg in a m^3 mixture)</th>\n",
       "      <th>Blast Furnace Slag (component 2)(kg in a m^3 mixture)</th>\n",
       "      <th>Fly Ash (component 3)(kg in a m^3 mixture)</th>\n",
       "      <th>Water  (component 4)(kg in a m^3 mixture)</th>\n",
       "      <th>Superplasticizer (component 5)(kg in a m^3 mixture)</th>\n",
       "      <th>Coarse Aggregate  (component 6)(kg in a m^3 mixture)</th>\n",
       "      <th>Fine Aggregate (component 7)(kg in a m^3 mixture)</th>\n",
       "      <th>Age (day)</th>\n",
       "      <th>Concrete compressive strength(MPa, megapascals)</th>\n",
       "    </tr>\n",
       "  </thead>\n",
       "  <tbody>\n",
       "    <tr>\n",
       "      <th>134</th>\n",
       "      <td>362.6</td>\n",
       "      <td>189.0</td>\n",
       "      <td>0.0</td>\n",
       "      <td>164.9</td>\n",
       "      <td>11.6</td>\n",
       "      <td>944.7</td>\n",
       "      <td>755.8</td>\n",
       "      <td>28</td>\n",
       "      <td>71.30</td>\n",
       "    </tr>\n",
       "    <tr>\n",
       "      <th>13</th>\n",
       "      <td>190.0</td>\n",
       "      <td>190.0</td>\n",
       "      <td>0.0</td>\n",
       "      <td>228.0</td>\n",
       "      <td>0.0</td>\n",
       "      <td>932.0</td>\n",
       "      <td>670.0</td>\n",
       "      <td>90</td>\n",
       "      <td>42.33</td>\n",
       "    </tr>\n",
       "    <tr>\n",
       "      <th>996</th>\n",
       "      <td>152.6</td>\n",
       "      <td>238.7</td>\n",
       "      <td>0.0</td>\n",
       "      <td>200.0</td>\n",
       "      <td>6.3</td>\n",
       "      <td>1001.8</td>\n",
       "      <td>683.9</td>\n",
       "      <td>28</td>\n",
       "      <td>26.86</td>\n",
       "    </tr>\n",
       "    <tr>\n",
       "      <th>770</th>\n",
       "      <td>349.0</td>\n",
       "      <td>0.0</td>\n",
       "      <td>0.0</td>\n",
       "      <td>192.0</td>\n",
       "      <td>0.0</td>\n",
       "      <td>1047.0</td>\n",
       "      <td>806.0</td>\n",
       "      <td>3</td>\n",
       "      <td>14.99</td>\n",
       "    </tr>\n",
       "    <tr>\n",
       "      <th>937</th>\n",
       "      <td>313.3</td>\n",
       "      <td>0.0</td>\n",
       "      <td>113.0</td>\n",
       "      <td>178.5</td>\n",
       "      <td>8.0</td>\n",
       "      <td>1001.9</td>\n",
       "      <td>688.7</td>\n",
       "      <td>28</td>\n",
       "      <td>36.80</td>\n",
       "    </tr>\n",
       "  </tbody>\n",
       "</table>\n",
       "</div>"
      ],
      "text/plain": [
       "     Cement (component 1)(kg in a m^3 mixture)  \\\n",
       "134                                      362.6   \n",
       "13                                       190.0   \n",
       "996                                      152.6   \n",
       "770                                      349.0   \n",
       "937                                      313.3   \n",
       "\n",
       "     Blast Furnace Slag (component 2)(kg in a m^3 mixture)  \\\n",
       "134                                              189.0       \n",
       "13                                               190.0       \n",
       "996                                              238.7       \n",
       "770                                                0.0       \n",
       "937                                                0.0       \n",
       "\n",
       "     Fly Ash (component 3)(kg in a m^3 mixture)  \\\n",
       "134                                         0.0   \n",
       "13                                          0.0   \n",
       "996                                         0.0   \n",
       "770                                         0.0   \n",
       "937                                       113.0   \n",
       "\n",
       "     Water  (component 4)(kg in a m^3 mixture)  \\\n",
       "134                                      164.9   \n",
       "13                                       228.0   \n",
       "996                                      200.0   \n",
       "770                                      192.0   \n",
       "937                                      178.5   \n",
       "\n",
       "     Superplasticizer (component 5)(kg in a m^3 mixture)  \\\n",
       "134                                               11.6     \n",
       "13                                                 0.0     \n",
       "996                                                6.3     \n",
       "770                                                0.0     \n",
       "937                                                8.0     \n",
       "\n",
       "     Coarse Aggregate  (component 6)(kg in a m^3 mixture)  \\\n",
       "134                                              944.7      \n",
       "13                                               932.0      \n",
       "996                                             1001.8      \n",
       "770                                             1047.0      \n",
       "937                                             1001.9      \n",
       "\n",
       "     Fine Aggregate (component 7)(kg in a m^3 mixture)  Age (day)  \\\n",
       "134                                              755.8         28   \n",
       "13                                               670.0         90   \n",
       "996                                              683.9         28   \n",
       "770                                              806.0          3   \n",
       "937                                              688.7         28   \n",
       "\n",
       "     Concrete compressive strength(MPa, megapascals)   \n",
       "134                                             71.30  \n",
       "13                                              42.33  \n",
       "996                                             26.86  \n",
       "770                                             14.99  \n",
       "937                                             36.80  "
      ]
     },
     "execution_count": 9,
     "metadata": {},
     "output_type": "execute_result"
    }
   ],
   "source": [
    "X_train.head()"
   ]
  },
  {
   "cell_type": "markdown",
   "metadata": {
    "id": "CcvbbUpmJFCi"
   },
   "source": [
    "# Assigning features and target variable"
   ]
  },
  {
   "cell_type": "code",
   "execution_count": 10,
   "metadata": {
    "id": "OTv_VabYIj83"
   },
   "outputs": [],
   "source": [
    "Y_train = X_train.iloc[:,-1]\n",
    "X_train = X_train.iloc[:,0:-1]\n",
    "Y_test = X_test.iloc[:,-1]\n",
    "X_test = X_test.iloc[:,0:-1]"
   ]
  },
  {
   "cell_type": "code",
   "execution_count": 11,
   "metadata": {
    "id": "KHF-Yeo2JTyg"
   },
   "outputs": [],
   "source": [
    "X_mean = X_train.mean()\n",
    "X_train -= X_mean\n",
    "X_std = X_train.std()\n",
    "X_train /= X_std\n",
    "X_test -= X_mean\n",
    "X_test /= X_std"
   ]
  },
  {
   "cell_type": "code",
   "execution_count": 12,
   "metadata": {},
   "outputs": [],
   "source": [
    "Y_mean = Y_train.mean()\n",
    "Y_train -= Y_mean\n",
    "Y_std = Y_train.std()\n",
    "Y_train /= Y_std\n",
    "Y_test -= Y_mean\n",
    "Y_test /= Y_std"
   ]
  },
  {
   "cell_type": "code",
   "execution_count": 13,
   "metadata": {},
   "outputs": [
    {
     "data": {
      "text/plain": [
       "Cement (component 1)(kg in a m^3 mixture)                float64\n",
       "Blast Furnace Slag (component 2)(kg in a m^3 mixture)    float64\n",
       "Fly Ash (component 3)(kg in a m^3 mixture)               float64\n",
       "Water  (component 4)(kg in a m^3 mixture)                float64\n",
       "Superplasticizer (component 5)(kg in a m^3 mixture)      float64\n",
       "Coarse Aggregate  (component 6)(kg in a m^3 mixture)     float64\n",
       "Fine Aggregate (component 7)(kg in a m^3 mixture)        float64\n",
       "Age (day)                                                float64\n",
       "dtype: object"
      ]
     },
     "execution_count": 13,
     "metadata": {},
     "output_type": "execute_result"
    }
   ],
   "source": [
    "X_train.dtypes"
   ]
  },
  {
   "cell_type": "code",
   "execution_count": 14,
   "metadata": {},
   "outputs": [],
   "source": [
    "X_train = X_train.to_numpy()\n",
    "Y_train = Y_train.to_numpy()\n",
    "X_test = X_test.to_numpy()\n",
    "Y_test = Y_test.to_numpy()"
   ]
  },
  {
   "cell_type": "markdown",
   "metadata": {
    "id": "_LMH3tMeMbXN"
   },
   "source": [
    "# Model selection"
   ]
  },
  {
   "cell_type": "code",
   "execution_count": 15,
   "metadata": {
    "id": "N71E3GgCMTCO"
   },
   "outputs": [
    {
     "name": "stderr",
     "output_type": "stream",
     "text": [
      "C:\\ProgramData\\Anaconda3\\lib\\site-packages\\tensorflow\\python\\framework\\dtypes.py:526: FutureWarning: Passing (type, 1) or '1type' as a synonym of type is deprecated; in a future version of numpy, it will be understood as (type, (1,)) / '(1,)type'.\n",
      "  _np_qint8 = np.dtype([(\"qint8\", np.int8, 1)])\n",
      "C:\\ProgramData\\Anaconda3\\lib\\site-packages\\tensorflow\\python\\framework\\dtypes.py:527: FutureWarning: Passing (type, 1) or '1type' as a synonym of type is deprecated; in a future version of numpy, it will be understood as (type, (1,)) / '(1,)type'.\n",
      "  _np_quint8 = np.dtype([(\"quint8\", np.uint8, 1)])\n",
      "C:\\ProgramData\\Anaconda3\\lib\\site-packages\\tensorflow\\python\\framework\\dtypes.py:528: FutureWarning: Passing (type, 1) or '1type' as a synonym of type is deprecated; in a future version of numpy, it will be understood as (type, (1,)) / '(1,)type'.\n",
      "  _np_qint16 = np.dtype([(\"qint16\", np.int16, 1)])\n",
      "C:\\ProgramData\\Anaconda3\\lib\\site-packages\\tensorflow\\python\\framework\\dtypes.py:529: FutureWarning: Passing (type, 1) or '1type' as a synonym of type is deprecated; in a future version of numpy, it will be understood as (type, (1,)) / '(1,)type'.\n",
      "  _np_quint16 = np.dtype([(\"quint16\", np.uint16, 1)])\n",
      "C:\\ProgramData\\Anaconda3\\lib\\site-packages\\tensorflow\\python\\framework\\dtypes.py:530: FutureWarning: Passing (type, 1) or '1type' as a synonym of type is deprecated; in a future version of numpy, it will be understood as (type, (1,)) / '(1,)type'.\n",
      "  _np_qint32 = np.dtype([(\"qint32\", np.int32, 1)])\n",
      "C:\\ProgramData\\Anaconda3\\lib\\site-packages\\tensorflow\\python\\framework\\dtypes.py:535: FutureWarning: Passing (type, 1) or '1type' as a synonym of type is deprecated; in a future version of numpy, it will be understood as (type, (1,)) / '(1,)type'.\n",
      "  np_resource = np.dtype([(\"resource\", np.ubyte, 1)])\n"
     ]
    }
   ],
   "source": [
    "from tensorflow.keras import layers as L\n",
    "from tensorflow.keras import models as M"
   ]
  },
  {
   "cell_type": "code",
   "execution_count": 16,
   "metadata": {
    "id": "PZIj7pgIMhcg"
   },
   "outputs": [],
   "source": [
    "network = M.Sequential()"
   ]
  },
  {
   "cell_type": "code",
   "execution_count": 17,
   "metadata": {
    "id": "jcIypzdFMrDX"
   },
   "outputs": [
    {
     "name": "stdout",
     "output_type": "stream",
     "text": [
      "WARNING:tensorflow:From C:\\ProgramData\\Anaconda3\\lib\\site-packages\\tensorflow\\python\\ops\\resource_variable_ops.py:435: colocate_with (from tensorflow.python.framework.ops) is deprecated and will be removed in a future version.\n",
      "Instructions for updating:\n",
      "Colocations handled automatically by placer.\n"
     ]
    }
   ],
   "source": [
    "network.add(L.Dense(128,activation=\"relu\",input_shape=(X_train.shape[1],)))"
   ]
  },
  {
   "cell_type": "code",
   "execution_count": 18,
   "metadata": {
    "id": "gl8qko4FM3j4"
   },
   "outputs": [],
   "source": [
    "network.add(L.Dense(64,activation=\"relu\"))"
   ]
  },
  {
   "cell_type": "code",
   "execution_count": 19,
   "metadata": {
    "id": "LQ2VEXd9M8Uw"
   },
   "outputs": [],
   "source": [
    "network.add(L.Dense(32,activation=\"relu\"))"
   ]
  },
  {
   "cell_type": "code",
   "execution_count": 20,
   "metadata": {
    "id": "yWUmN_KvNCno"
   },
   "outputs": [],
   "source": [
    "network.add(L.Dense(1))"
   ]
  },
  {
   "cell_type": "code",
   "execution_count": 21,
   "metadata": {
    "id": "zSyeoyk0Nsa2"
   },
   "outputs": [
    {
     "name": "stdout",
     "output_type": "stream",
     "text": [
      "WARNING:tensorflow:From C:\\ProgramData\\Anaconda3\\lib\\site-packages\\tensorflow\\python\\keras\\utils\\losses_utils.py:170: to_float (from tensorflow.python.ops.math_ops) is deprecated and will be removed in a future version.\n",
      "Instructions for updating:\n",
      "Use tf.cast instead.\n"
     ]
    }
   ],
   "source": [
    "network.compile(optimizer=\"rmsprop\",loss=[\"mse\"],metrics=[\"mae\"])"
   ]
  },
  {
   "cell_type": "code",
   "execution_count": 22,
   "metadata": {
    "colab": {
     "base_uri": "https://localhost:8080/"
    },
    "id": "E8cCCFviOKuF",
    "outputId": "c6eebdfa-f576-4106-ec4b-38cba2572df0"
   },
   "outputs": [
    {
     "name": "stdout",
     "output_type": "stream",
     "text": [
      "Train on 504 samples, validate on 217 samples\n",
      "WARNING:tensorflow:From C:\\ProgramData\\Anaconda3\\lib\\site-packages\\tensorflow\\python\\ops\\math_ops.py:3066: to_int32 (from tensorflow.python.ops.math_ops) is deprecated and will be removed in a future version.\n",
      "Instructions for updating:\n",
      "Use tf.cast instead.\n",
      "Epoch 1/200\n",
      "504/504 [==============================] - 0s 810us/sample - loss: 0.5892 - mean_absolute_error: 0.6052 - val_loss: 0.4532 - val_mean_absolute_error: 0.5254\n",
      "Epoch 2/200\n",
      "504/504 [==============================] - 0s 187us/sample - loss: 0.3215 - mean_absolute_error: 0.4475 - val_loss: 0.3545 - val_mean_absolute_error: 0.4550\n",
      "Epoch 3/200\n",
      "504/504 [==============================] - 0s 263us/sample - loss: 0.2389 - mean_absolute_error: 0.3803 - val_loss: 0.2890 - val_mean_absolute_error: 0.4061\n",
      "Epoch 4/200\n",
      "504/504 [==============================] - 0s 196us/sample - loss: 0.1907 - mean_absolute_error: 0.3347 - val_loss: 0.2847 - val_mean_absolute_error: 0.4081\n",
      "Epoch 5/200\n",
      "504/504 [==============================] - 0s 198us/sample - loss: 0.1720 - mean_absolute_error: 0.3190 - val_loss: 0.2565 - val_mean_absolute_error: 0.3857\n",
      "Epoch 6/200\n",
      "504/504 [==============================] - 0s 218us/sample - loss: 0.1492 - mean_absolute_error: 0.3009 - val_loss: 0.2209 - val_mean_absolute_error: 0.3569\n",
      "Epoch 7/200\n",
      "504/504 [==============================] - 0s 202us/sample - loss: 0.1379 - mean_absolute_error: 0.2826 - val_loss: 0.2350 - val_mean_absolute_error: 0.3656\n",
      "Epoch 8/200\n",
      "504/504 [==============================] - 0s 183us/sample - loss: 0.1275 - mean_absolute_error: 0.2762 - val_loss: 0.2252 - val_mean_absolute_error: 0.3657\n",
      "Epoch 9/200\n",
      "504/504 [==============================] - 0s 260us/sample - loss: 0.1125 - mean_absolute_error: 0.2597 - val_loss: 0.2144 - val_mean_absolute_error: 0.3472\n",
      "Epoch 10/200\n",
      "504/504 [==============================] - 0s 230us/sample - loss: 0.1037 - mean_absolute_error: 0.2514 - val_loss: 0.2252 - val_mean_absolute_error: 0.3569\n",
      "Epoch 11/200\n",
      "504/504 [==============================] - 0s 262us/sample - loss: 0.1029 - mean_absolute_error: 0.2485 - val_loss: 0.1823 - val_mean_absolute_error: 0.3240\n",
      "Epoch 12/200\n",
      "504/504 [==============================] - 0s 212us/sample - loss: 0.0902 - mean_absolute_error: 0.2331 - val_loss: 0.2081 - val_mean_absolute_error: 0.3435\n",
      "Epoch 13/200\n",
      "504/504 [==============================] - 0s 210us/sample - loss: 0.0903 - mean_absolute_error: 0.2348 - val_loss: 0.1750 - val_mean_absolute_error: 0.3166\n",
      "Epoch 14/200\n",
      "504/504 [==============================] - 0s 204us/sample - loss: 0.0872 - mean_absolute_error: 0.2274 - val_loss: 0.1740 - val_mean_absolute_error: 0.3133\n",
      "Epoch 15/200\n",
      "504/504 [==============================] - 0s 200us/sample - loss: 0.0804 - mean_absolute_error: 0.2143 - val_loss: 0.1880 - val_mean_absolute_error: 0.3255\n",
      "Epoch 16/200\n",
      "504/504 [==============================] - 0s 185us/sample - loss: 0.0784 - mean_absolute_error: 0.2150 - val_loss: 0.1496 - val_mean_absolute_error: 0.2958\n",
      "Epoch 17/200\n",
      "504/504 [==============================] - 0s 206us/sample - loss: 0.0751 - mean_absolute_error: 0.2096 - val_loss: 0.1786 - val_mean_absolute_error: 0.3307\n",
      "Epoch 18/200\n",
      "504/504 [==============================] - 0s 214us/sample - loss: 0.0740 - mean_absolute_error: 0.2081 - val_loss: 0.1748 - val_mean_absolute_error: 0.3123\n",
      "Epoch 19/200\n",
      "504/504 [==============================] - 0s 214us/sample - loss: 0.0712 - mean_absolute_error: 0.2020 - val_loss: 0.1511 - val_mean_absolute_error: 0.2928\n",
      "Epoch 20/200\n",
      "504/504 [==============================] - 0s 208us/sample - loss: 0.0652 - mean_absolute_error: 0.1946 - val_loss: 0.1707 - val_mean_absolute_error: 0.3084\n",
      "Epoch 21/200\n",
      "504/504 [==============================] - 0s 212us/sample - loss: 0.0628 - mean_absolute_error: 0.1952 - val_loss: 0.1879 - val_mean_absolute_error: 0.3424\n",
      "Epoch 22/200\n",
      "504/504 [==============================] - 0s 216us/sample - loss: 0.0682 - mean_absolute_error: 0.1970 - val_loss: 0.1454 - val_mean_absolute_error: 0.2906\n",
      "Epoch 23/200\n",
      "504/504 [==============================] - 0s 266us/sample - loss: 0.0667 - mean_absolute_error: 0.1937 - val_loss: 0.1370 - val_mean_absolute_error: 0.2773\n",
      "Epoch 24/200\n",
      "504/504 [==============================] - 0s 202us/sample - loss: 0.0599 - mean_absolute_error: 0.1854 - val_loss: 0.1364 - val_mean_absolute_error: 0.2827\n",
      "Epoch 25/200\n",
      "504/504 [==============================] - 0s 246us/sample - loss: 0.0584 - mean_absolute_error: 0.1834 - val_loss: 0.1467 - val_mean_absolute_error: 0.2861\n",
      "Epoch 26/200\n",
      "504/504 [==============================] - 0s 290us/sample - loss: 0.0586 - mean_absolute_error: 0.1796 - val_loss: 0.1836 - val_mean_absolute_error: 0.3205\n",
      "Epoch 27/200\n",
      "504/504 [==============================] - 0s 206us/sample - loss: 0.0548 - mean_absolute_error: 0.1752 - val_loss: 0.1496 - val_mean_absolute_error: 0.2903\n",
      "Epoch 28/200\n",
      "504/504 [==============================] - 0s 220us/sample - loss: 0.0574 - mean_absolute_error: 0.1814 - val_loss: 0.1501 - val_mean_absolute_error: 0.3006\n",
      "Epoch 29/200\n",
      "504/504 [==============================] - 0s 196us/sample - loss: 0.0574 - mean_absolute_error: 0.1788 - val_loss: 0.1416 - val_mean_absolute_error: 0.2945\n",
      "Epoch 30/200\n",
      "504/504 [==============================] - 0s 290us/sample - loss: 0.0557 - mean_absolute_error: 0.1739 - val_loss: 0.1485 - val_mean_absolute_error: 0.2882\n",
      "Epoch 31/200\n",
      "504/504 [==============================] - 0s 228us/sample - loss: 0.0532 - mean_absolute_error: 0.1728 - val_loss: 0.1362 - val_mean_absolute_error: 0.2785\n",
      "Epoch 32/200\n",
      "504/504 [==============================] - 0s 244us/sample - loss: 0.0489 - mean_absolute_error: 0.1665 - val_loss: 0.1288 - val_mean_absolute_error: 0.2791\n",
      "Epoch 33/200\n",
      "504/504 [==============================] - 0s 228us/sample - loss: 0.0504 - mean_absolute_error: 0.1725 - val_loss: 0.1435 - val_mean_absolute_error: 0.2863\n",
      "Epoch 34/200\n",
      "504/504 [==============================] - 0s 198us/sample - loss: 0.0469 - mean_absolute_error: 0.1602 - val_loss: 0.1475 - val_mean_absolute_error: 0.2988\n",
      "Epoch 35/200\n",
      "504/504 [==============================] - 0s 294us/sample - loss: 0.0490 - mean_absolute_error: 0.1675 - val_loss: 0.1467 - val_mean_absolute_error: 0.2945\n",
      "Epoch 36/200\n",
      "504/504 [==============================] - 0s 198us/sample - loss: 0.0464 - mean_absolute_error: 0.1615 - val_loss: 0.1263 - val_mean_absolute_error: 0.2656\n",
      "Epoch 37/200\n",
      "504/504 [==============================] - 0s 224us/sample - loss: 0.0511 - mean_absolute_error: 0.1674 - val_loss: 0.1534 - val_mean_absolute_error: 0.2935\n",
      "Epoch 38/200\n",
      "504/504 [==============================] - 0s 204us/sample - loss: 0.0477 - mean_absolute_error: 0.1615 - val_loss: 0.1330 - val_mean_absolute_error: 0.2686\n",
      "Epoch 39/200\n",
      "504/504 [==============================] - 0s 212us/sample - loss: 0.0415 - mean_absolute_error: 0.1537 - val_loss: 0.1484 - val_mean_absolute_error: 0.2979\n",
      "Epoch 40/200\n",
      "504/504 [==============================] - 0s 210us/sample - loss: 0.0461 - mean_absolute_error: 0.1622 - val_loss: 0.1480 - val_mean_absolute_error: 0.2846\n",
      "Epoch 41/200\n",
      "504/504 [==============================] - 0s 260us/sample - loss: 0.0435 - mean_absolute_error: 0.1591 - val_loss: 0.1440 - val_mean_absolute_error: 0.2854\n",
      "Epoch 42/200\n",
      "504/504 [==============================] - 0s 232us/sample - loss: 0.0421 - mean_absolute_error: 0.1532 - val_loss: 0.1538 - val_mean_absolute_error: 0.3018\n",
      "Epoch 43/200\n",
      "504/504 [==============================] - 0s 222us/sample - loss: 0.0447 - mean_absolute_error: 0.1563 - val_loss: 0.1216 - val_mean_absolute_error: 0.2593\n",
      "Epoch 44/200\n",
      "504/504 [==============================] - 0s 254us/sample - loss: 0.0437 - mean_absolute_error: 0.1521 - val_loss: 0.1501 - val_mean_absolute_error: 0.2945\n",
      "Epoch 45/200\n",
      "504/504 [==============================] - 0s 204us/sample - loss: 0.0459 - mean_absolute_error: 0.1527 - val_loss: 0.1449 - val_mean_absolute_error: 0.2826\n",
      "Epoch 46/200\n",
      "504/504 [==============================] - 0s 178us/sample - loss: 0.0388 - mean_absolute_error: 0.1495 - val_loss: 0.1255 - val_mean_absolute_error: 0.2661\n",
      "Epoch 47/200\n"
     ]
    },
    {
     "name": "stdout",
     "output_type": "stream",
     "text": [
      "504/504 [==============================] - 0s 228us/sample - loss: 0.0456 - mean_absolute_error: 0.1532 - val_loss: 0.1235 - val_mean_absolute_error: 0.2626\n",
      "Epoch 48/200\n",
      "504/504 [==============================] - 0s 178us/sample - loss: 0.0412 - mean_absolute_error: 0.1507 - val_loss: 0.1416 - val_mean_absolute_error: 0.2908\n",
      "Epoch 49/200\n",
      "504/504 [==============================] - 0s 244us/sample - loss: 0.0413 - mean_absolute_error: 0.1492 - val_loss: 0.1380 - val_mean_absolute_error: 0.2794\n",
      "Epoch 50/200\n",
      "504/504 [==============================] - 0s 181us/sample - loss: 0.0452 - mean_absolute_error: 0.1609 - val_loss: 0.1272 - val_mean_absolute_error: 0.2642\n",
      "Epoch 51/200\n",
      "504/504 [==============================] - 0s 198us/sample - loss: 0.0400 - mean_absolute_error: 0.1467 - val_loss: 0.1386 - val_mean_absolute_error: 0.2838\n",
      "Epoch 52/200\n",
      "504/504 [==============================] - 0s 226us/sample - loss: 0.0377 - mean_absolute_error: 0.1387 - val_loss: 0.1727 - val_mean_absolute_error: 0.3095\n",
      "Epoch 53/200\n",
      "504/504 [==============================] - 0s 198us/sample - loss: 0.0409 - mean_absolute_error: 0.1451 - val_loss: 0.1370 - val_mean_absolute_error: 0.2775\n",
      "Epoch 54/200\n",
      "504/504 [==============================] - 0s 237us/sample - loss: 0.0417 - mean_absolute_error: 0.1500 - val_loss: 0.1233 - val_mean_absolute_error: 0.2637\n",
      "Epoch 55/200\n",
      "504/504 [==============================] - 0s 202us/sample - loss: 0.0344 - mean_absolute_error: 0.1360 - val_loss: 0.1232 - val_mean_absolute_error: 0.2649\n",
      "Epoch 56/200\n",
      "504/504 [==============================] - 0s 204us/sample - loss: 0.0411 - mean_absolute_error: 0.1491 - val_loss: 0.1195 - val_mean_absolute_error: 0.2578\n",
      "Epoch 57/200\n",
      "504/504 [==============================] - 0s 189us/sample - loss: 0.0412 - mean_absolute_error: 0.1420 - val_loss: 0.1189 - val_mean_absolute_error: 0.2590\n",
      "Epoch 58/200\n",
      "504/504 [==============================] - 0s 188us/sample - loss: 0.0335 - mean_absolute_error: 0.1346 - val_loss: 0.1154 - val_mean_absolute_error: 0.2537\n",
      "Epoch 59/200\n",
      "504/504 [==============================] - 0s 210us/sample - loss: 0.0358 - mean_absolute_error: 0.1379 - val_loss: 0.1404 - val_mean_absolute_error: 0.2811\n",
      "Epoch 60/200\n",
      "504/504 [==============================] - 0s 147us/sample - loss: 0.0382 - mean_absolute_error: 0.1404 - val_loss: 0.1198 - val_mean_absolute_error: 0.2541\n",
      "Epoch 61/200\n",
      "504/504 [==============================] - 0s 188us/sample - loss: 0.0319 - mean_absolute_error: 0.1293 - val_loss: 0.1405 - val_mean_absolute_error: 0.2736\n",
      "Epoch 62/200\n",
      "504/504 [==============================] - 0s 173us/sample - loss: 0.0377 - mean_absolute_error: 0.1411 - val_loss: 0.1160 - val_mean_absolute_error: 0.2486\n",
      "Epoch 63/200\n",
      "504/504 [==============================] - 0s 202us/sample - loss: 0.0411 - mean_absolute_error: 0.1401 - val_loss: 0.1108 - val_mean_absolute_error: 0.2445\n",
      "Epoch 64/200\n",
      "504/504 [==============================] - 0s 210us/sample - loss: 0.0354 - mean_absolute_error: 0.1316 - val_loss: 0.1121 - val_mean_absolute_error: 0.2508\n",
      "Epoch 65/200\n",
      "504/504 [==============================] - 0s 155us/sample - loss: 0.0372 - mean_absolute_error: 0.1383 - val_loss: 0.1194 - val_mean_absolute_error: 0.2566\n",
      "Epoch 66/200\n",
      "504/504 [==============================] - 0s 179us/sample - loss: 0.0330 - mean_absolute_error: 0.1272 - val_loss: 0.1187 - val_mean_absolute_error: 0.2554\n",
      "Epoch 67/200\n",
      "504/504 [==============================] - 0s 200us/sample - loss: 0.0326 - mean_absolute_error: 0.1263 - val_loss: 0.1397 - val_mean_absolute_error: 0.2658\n",
      "Epoch 68/200\n",
      "504/504 [==============================] - 0s 204us/sample - loss: 0.0353 - mean_absolute_error: 0.1355 - val_loss: 0.1250 - val_mean_absolute_error: 0.2656\n",
      "Epoch 69/200\n",
      "504/504 [==============================] - 0s 173us/sample - loss: 0.0333 - mean_absolute_error: 0.1326 - val_loss: 0.1723 - val_mean_absolute_error: 0.3070\n",
      "Epoch 70/200\n",
      "504/504 [==============================] - 0s 206us/sample - loss: 0.0323 - mean_absolute_error: 0.1278 - val_loss: 0.1147 - val_mean_absolute_error: 0.2492\n",
      "Epoch 71/200\n",
      "504/504 [==============================] - 0s 179us/sample - loss: 0.0317 - mean_absolute_error: 0.1282 - val_loss: 0.1282 - val_mean_absolute_error: 0.2641\n",
      "Epoch 72/200\n",
      "504/504 [==============================] - 0s 181us/sample - loss: 0.0362 - mean_absolute_error: 0.1399 - val_loss: 0.1334 - val_mean_absolute_error: 0.2688\n",
      "Epoch 73/200\n",
      "504/504 [==============================] - 0s 149us/sample - loss: 0.0307 - mean_absolute_error: 0.1237 - val_loss: 0.1222 - val_mean_absolute_error: 0.2586\n",
      "Epoch 74/200\n",
      "504/504 [==============================] - 0s 228us/sample - loss: 0.0310 - mean_absolute_error: 0.1232 - val_loss: 0.1260 - val_mean_absolute_error: 0.2657\n",
      "Epoch 75/200\n",
      "504/504 [==============================] - 0s 181us/sample - loss: 0.0325 - mean_absolute_error: 0.1304 - val_loss: 0.1344 - val_mean_absolute_error: 0.2782\n",
      "Epoch 76/200\n",
      "504/504 [==============================] - 0s 216us/sample - loss: 0.0339 - mean_absolute_error: 0.1320 - val_loss: 0.1316 - val_mean_absolute_error: 0.2585\n",
      "Epoch 77/200\n",
      "504/504 [==============================] - 0s 210us/sample - loss: 0.0289 - mean_absolute_error: 0.1218 - val_loss: 0.1208 - val_mean_absolute_error: 0.2565\n",
      "Epoch 78/200\n",
      "504/504 [==============================] - 0s 181us/sample - loss: 0.0317 - mean_absolute_error: 0.1301 - val_loss: 0.1141 - val_mean_absolute_error: 0.2483\n",
      "Epoch 79/200\n",
      "504/504 [==============================] - 0s 207us/sample - loss: 0.0304 - mean_absolute_error: 0.1226 - val_loss: 0.1318 - val_mean_absolute_error: 0.2642\n",
      "Epoch 80/200\n",
      "504/504 [==============================] - 0s 224us/sample - loss: 0.0313 - mean_absolute_error: 0.1261 - val_loss: 0.1181 - val_mean_absolute_error: 0.2587\n",
      "Epoch 81/200\n",
      "504/504 [==============================] - 0s 183us/sample - loss: 0.0370 - mean_absolute_error: 0.1312 - val_loss: 0.1347 - val_mean_absolute_error: 0.2615\n",
      "Epoch 82/200\n",
      "504/504 [==============================] - 0s 181us/sample - loss: 0.0330 - mean_absolute_error: 0.1276 - val_loss: 0.1096 - val_mean_absolute_error: 0.2401\n",
      "Epoch 83/200\n",
      "504/504 [==============================] - 0s 260us/sample - loss: 0.0262 - mean_absolute_error: 0.1157 - val_loss: 0.1289 - val_mean_absolute_error: 0.2579\n",
      "Epoch 84/200\n",
      "504/504 [==============================] - 0s 194us/sample - loss: 0.0279 - mean_absolute_error: 0.1221 - val_loss: 0.1216 - val_mean_absolute_error: 0.2586\n",
      "Epoch 85/200\n",
      "504/504 [==============================] - 0s 206us/sample - loss: 0.0307 - mean_absolute_error: 0.1231 - val_loss: 0.1309 - val_mean_absolute_error: 0.2591\n",
      "Epoch 86/200\n",
      "504/504 [==============================] - 0s 196us/sample - loss: 0.0286 - mean_absolute_error: 0.1245 - val_loss: 0.1301 - val_mean_absolute_error: 0.2591\n",
      "Epoch 87/200\n",
      "504/504 [==============================] - 0s 202us/sample - loss: 0.0303 - mean_absolute_error: 0.1199 - val_loss: 0.1138 - val_mean_absolute_error: 0.2458\n",
      "Epoch 88/200\n",
      "504/504 [==============================] - 0s 200us/sample - loss: 0.0273 - mean_absolute_error: 0.1124 - val_loss: 0.1125 - val_mean_absolute_error: 0.2455\n",
      "Epoch 89/200\n",
      "504/504 [==============================] - 0s 214us/sample - loss: 0.0286 - mean_absolute_error: 0.1231 - val_loss: 0.1310 - val_mean_absolute_error: 0.2639\n",
      "Epoch 90/200\n",
      "504/504 [==============================] - 0s 189us/sample - loss: 0.0312 - mean_absolute_error: 0.1249 - val_loss: 0.1126 - val_mean_absolute_error: 0.2571\n",
      "Epoch 91/200\n",
      "504/504 [==============================] - 0s 173us/sample - loss: 0.0300 - mean_absolute_error: 0.1194 - val_loss: 0.1437 - val_mean_absolute_error: 0.2861\n",
      "Epoch 92/200\n",
      "504/504 [==============================] - 0s 270us/sample - loss: 0.0279 - mean_absolute_error: 0.1177 - val_loss: 0.1326 - val_mean_absolute_error: 0.2607\n",
      "Epoch 93/200\n",
      "504/504 [==============================] - 0s 224us/sample - loss: 0.0303 - mean_absolute_error: 0.1242 - val_loss: 0.1204 - val_mean_absolute_error: 0.2500\n",
      "Epoch 94/200\n",
      "504/504 [==============================] - 0s 204us/sample - loss: 0.0288 - mean_absolute_error: 0.1161 - val_loss: 0.1237 - val_mean_absolute_error: 0.2479\n",
      "Epoch 95/200\n"
     ]
    },
    {
     "name": "stdout",
     "output_type": "stream",
     "text": [
      "504/504 [==============================] - 0s 214us/sample - loss: 0.0266 - mean_absolute_error: 0.1119 - val_loss: 0.1470 - val_mean_absolute_error: 0.2845\n",
      "Epoch 96/200\n",
      "504/504 [==============================] - 0s 187us/sample - loss: 0.0284 - mean_absolute_error: 0.1212 - val_loss: 0.1213 - val_mean_absolute_error: 0.2509\n",
      "Epoch 97/200\n",
      "504/504 [==============================] - 0s 209us/sample - loss: 0.0269 - mean_absolute_error: 0.1156 - val_loss: 0.1211 - val_mean_absolute_error: 0.2590\n",
      "Epoch 98/200\n",
      "504/504 [==============================] - 0s 223us/sample - loss: 0.0295 - mean_absolute_error: 0.1160 - val_loss: 0.1217 - val_mean_absolute_error: 0.2597\n",
      "Epoch 99/200\n",
      "504/504 [==============================] - 0s 192us/sample - loss: 0.0249 - mean_absolute_error: 0.1142 - val_loss: 0.1153 - val_mean_absolute_error: 0.2462\n",
      "Epoch 100/200\n",
      "504/504 [==============================] - 0s 198us/sample - loss: 0.0296 - mean_absolute_error: 0.1154 - val_loss: 0.1216 - val_mean_absolute_error: 0.2503\n",
      "Epoch 101/200\n",
      "504/504 [==============================] - 0s 200us/sample - loss: 0.0255 - mean_absolute_error: 0.1105 - val_loss: 0.1255 - val_mean_absolute_error: 0.2580\n",
      "Epoch 102/200\n",
      "504/504 [==============================] - 0s 202us/sample - loss: 0.0300 - mean_absolute_error: 0.1197 - val_loss: 0.1181 - val_mean_absolute_error: 0.2490\n",
      "Epoch 103/200\n",
      "504/504 [==============================] - 0s 201us/sample - loss: 0.0257 - mean_absolute_error: 0.1135 - val_loss: 0.1210 - val_mean_absolute_error: 0.2508\n",
      "Epoch 104/200\n",
      "504/504 [==============================] - 0s 216us/sample - loss: 0.0280 - mean_absolute_error: 0.1166 - val_loss: 0.1129 - val_mean_absolute_error: 0.2524\n",
      "Epoch 105/200\n",
      "504/504 [==============================] - 0s 179us/sample - loss: 0.0255 - mean_absolute_error: 0.1135 - val_loss: 0.1340 - val_mean_absolute_error: 0.2747\n",
      "Epoch 106/200\n",
      "504/504 [==============================] - 0s 188us/sample - loss: 0.0274 - mean_absolute_error: 0.1150 - val_loss: 0.1200 - val_mean_absolute_error: 0.2450\n",
      "Epoch 107/200\n",
      "504/504 [==============================] - 0s 200us/sample - loss: 0.0272 - mean_absolute_error: 0.1129 - val_loss: 0.1122 - val_mean_absolute_error: 0.2408\n",
      "Epoch 108/200\n",
      "504/504 [==============================] - 0s 227us/sample - loss: 0.0290 - mean_absolute_error: 0.1125 - val_loss: 0.1148 - val_mean_absolute_error: 0.2518\n",
      "Epoch 109/200\n",
      "504/504 [==============================] - 0s 200us/sample - loss: 0.0239 - mean_absolute_error: 0.1068 - val_loss: 0.1190 - val_mean_absolute_error: 0.2500\n",
      "Epoch 110/200\n",
      "504/504 [==============================] - 0s 196us/sample - loss: 0.0278 - mean_absolute_error: 0.1164 - val_loss: 0.1237 - val_mean_absolute_error: 0.2460\n",
      "Epoch 111/200\n",
      "504/504 [==============================] - 0s 230us/sample - loss: 0.0255 - mean_absolute_error: 0.1137 - val_loss: 0.1232 - val_mean_absolute_error: 0.2499\n",
      "Epoch 112/200\n",
      "504/504 [==============================] - 0s 184us/sample - loss: 0.0270 - mean_absolute_error: 0.1127 - val_loss: 0.1148 - val_mean_absolute_error: 0.2595\n",
      "Epoch 113/200\n",
      "504/504 [==============================] - 0s 198us/sample - loss: 0.0239 - mean_absolute_error: 0.1056 - val_loss: 0.1355 - val_mean_absolute_error: 0.2627\n",
      "Epoch 114/200\n",
      "504/504 [==============================] - 0s 206us/sample - loss: 0.0276 - mean_absolute_error: 0.1133 - val_loss: 0.1240 - val_mean_absolute_error: 0.2620\n",
      "Epoch 115/200\n",
      "504/504 [==============================] - 0s 200us/sample - loss: 0.0236 - mean_absolute_error: 0.1040 - val_loss: 0.1323 - val_mean_absolute_error: 0.2712\n",
      "Epoch 116/200\n",
      "504/504 [==============================] - 0s 192us/sample - loss: 0.0253 - mean_absolute_error: 0.1079 - val_loss: 0.1293 - val_mean_absolute_error: 0.2671\n",
      "Epoch 117/200\n",
      "504/504 [==============================] - 0s 258us/sample - loss: 0.0275 - mean_absolute_error: 0.1161 - val_loss: 0.1138 - val_mean_absolute_error: 0.2452\n",
      "Epoch 118/200\n",
      "504/504 [==============================] - 0s 187us/sample - loss: 0.0248 - mean_absolute_error: 0.1051 - val_loss: 0.1174 - val_mean_absolute_error: 0.2492\n",
      "Epoch 119/200\n",
      "504/504 [==============================] - 0s 194us/sample - loss: 0.0250 - mean_absolute_error: 0.1059 - val_loss: 0.1150 - val_mean_absolute_error: 0.2456\n",
      "Epoch 120/200\n",
      "504/504 [==============================] - 0s 226us/sample - loss: 0.0223 - mean_absolute_error: 0.1063 - val_loss: 0.1134 - val_mean_absolute_error: 0.2418\n",
      "Epoch 121/200\n",
      "504/504 [==============================] - 0s 187us/sample - loss: 0.0239 - mean_absolute_error: 0.1045 - val_loss: 0.1238 - val_mean_absolute_error: 0.2513\n",
      "Epoch 122/200\n",
      "504/504 [==============================] - 0s 256us/sample - loss: 0.0245 - mean_absolute_error: 0.1093 - val_loss: 0.1106 - val_mean_absolute_error: 0.2397\n",
      "Epoch 123/200\n",
      "504/504 [==============================] - 0s 175us/sample - loss: 0.0273 - mean_absolute_error: 0.1133 - val_loss: 0.1138 - val_mean_absolute_error: 0.2410\n",
      "Epoch 124/200\n",
      "504/504 [==============================] - 0s 179us/sample - loss: 0.0216 - mean_absolute_error: 0.1019 - val_loss: 0.1123 - val_mean_absolute_error: 0.2582\n",
      "Epoch 125/200\n",
      "504/504 [==============================] - 0s 212us/sample - loss: 0.0236 - mean_absolute_error: 0.1069 - val_loss: 0.1274 - val_mean_absolute_error: 0.2596\n",
      "Epoch 126/200\n",
      "504/504 [==============================] - 0s 198us/sample - loss: 0.0259 - mean_absolute_error: 0.1090 - val_loss: 0.1231 - val_mean_absolute_error: 0.2547\n",
      "Epoch 127/200\n",
      "504/504 [==============================] - 0s 212us/sample - loss: 0.0249 - mean_absolute_error: 0.1069 - val_loss: 0.1230 - val_mean_absolute_error: 0.2535\n",
      "Epoch 128/200\n",
      "504/504 [==============================] - 0s 212us/sample - loss: 0.0248 - mean_absolute_error: 0.1077 - val_loss: 0.1179 - val_mean_absolute_error: 0.2483\n",
      "Epoch 129/200\n",
      "504/504 [==============================] - 0s 196us/sample - loss: 0.0257 - mean_absolute_error: 0.1068 - val_loss: 0.1257 - val_mean_absolute_error: 0.2542\n",
      "Epoch 130/200\n",
      "504/504 [==============================] - 0s 181us/sample - loss: 0.0220 - mean_absolute_error: 0.1044 - val_loss: 0.1222 - val_mean_absolute_error: 0.2540\n",
      "Epoch 131/200\n",
      "504/504 [==============================] - 0s 248us/sample - loss: 0.0244 - mean_absolute_error: 0.1065 - val_loss: 0.1078 - val_mean_absolute_error: 0.2392\n",
      "Epoch 132/200\n",
      "504/504 [==============================] - 0s 204us/sample - loss: 0.0226 - mean_absolute_error: 0.1004 - val_loss: 0.1231 - val_mean_absolute_error: 0.2504\n",
      "Epoch 133/200\n",
      "504/504 [==============================] - 0s 196us/sample - loss: 0.0244 - mean_absolute_error: 0.1051 - val_loss: 0.1190 - val_mean_absolute_error: 0.2540\n",
      "Epoch 134/200\n",
      "504/504 [==============================] - 0s 183us/sample - loss: 0.0235 - mean_absolute_error: 0.1029 - val_loss: 0.1204 - val_mean_absolute_error: 0.2587\n",
      "Epoch 135/200\n",
      "504/504 [==============================] - 0s 199us/sample - loss: 0.0215 - mean_absolute_error: 0.1001 - val_loss: 0.1265 - val_mean_absolute_error: 0.2596\n",
      "Epoch 136/200\n",
      "504/504 [==============================] - 0s 230us/sample - loss: 0.0235 - mean_absolute_error: 0.1082 - val_loss: 0.1247 - val_mean_absolute_error: 0.2555\n",
      "Epoch 137/200\n",
      "504/504 [==============================] - 0s 230us/sample - loss: 0.0241 - mean_absolute_error: 0.1028 - val_loss: 0.1236 - val_mean_absolute_error: 0.2531\n",
      "Epoch 138/200\n",
      "504/504 [==============================] - 0s 197us/sample - loss: 0.0248 - mean_absolute_error: 0.1023 - val_loss: 0.1161 - val_mean_absolute_error: 0.2459\n",
      "Epoch 139/200\n",
      "504/504 [==============================] - 0s 226us/sample - loss: 0.0237 - mean_absolute_error: 0.1038 - val_loss: 0.1460 - val_mean_absolute_error: 0.2963\n",
      "Epoch 140/200\n",
      "504/504 [==============================] - 0s 202us/sample - loss: 0.0235 - mean_absolute_error: 0.1021 - val_loss: 0.1166 - val_mean_absolute_error: 0.2425\n",
      "Epoch 141/200\n",
      "504/504 [==============================] - 0s 198us/sample - loss: 0.0240 - mean_absolute_error: 0.1026 - val_loss: 0.1220 - val_mean_absolute_error: 0.2509\n",
      "Epoch 142/200\n",
      "504/504 [==============================] - 0s 200us/sample - loss: 0.0226 - mean_absolute_error: 0.0981 - val_loss: 0.1332 - val_mean_absolute_error: 0.2581\n",
      "Epoch 143/200\n"
     ]
    },
    {
     "name": "stdout",
     "output_type": "stream",
     "text": [
      "504/504 [==============================] - 0s 175us/sample - loss: 0.0215 - mean_absolute_error: 0.1011 - val_loss: 0.1201 - val_mean_absolute_error: 0.2437\n",
      "Epoch 144/200\n",
      "504/504 [==============================] - 0s 220us/sample - loss: 0.0254 - mean_absolute_error: 0.1060 - val_loss: 0.1117 - val_mean_absolute_error: 0.2443\n",
      "Epoch 145/200\n",
      "504/504 [==============================] - 0s 206us/sample - loss: 0.0240 - mean_absolute_error: 0.1023 - val_loss: 0.1206 - val_mean_absolute_error: 0.2459\n",
      "Epoch 146/200\n",
      "504/504 [==============================] - 0s 218us/sample - loss: 0.0202 - mean_absolute_error: 0.0992 - val_loss: 0.1210 - val_mean_absolute_error: 0.2496\n",
      "Epoch 147/200\n",
      "504/504 [==============================] - 0s 208us/sample - loss: 0.0248 - mean_absolute_error: 0.1052 - val_loss: 0.1194 - val_mean_absolute_error: 0.2453\n",
      "Epoch 148/200\n",
      "504/504 [==============================] - 0s 177us/sample - loss: 0.0207 - mean_absolute_error: 0.0941 - val_loss: 0.1166 - val_mean_absolute_error: 0.2553\n",
      "Epoch 149/200\n",
      "504/504 [==============================] - 0s 210us/sample - loss: 0.0214 - mean_absolute_error: 0.0975 - val_loss: 0.1258 - val_mean_absolute_error: 0.2532\n",
      "Epoch 150/200\n",
      "504/504 [==============================] - 0s 224us/sample - loss: 0.0224 - mean_absolute_error: 0.1010 - val_loss: 0.1170 - val_mean_absolute_error: 0.2484\n",
      "Epoch 151/200\n",
      "504/504 [==============================] - 0s 194us/sample - loss: 0.0238 - mean_absolute_error: 0.1030 - val_loss: 0.1259 - val_mean_absolute_error: 0.2460\n",
      "Epoch 152/200\n",
      "504/504 [==============================] - 0s 222us/sample - loss: 0.0214 - mean_absolute_error: 0.0985 - val_loss: 0.1190 - val_mean_absolute_error: 0.2467\n",
      "Epoch 153/200\n",
      "504/504 [==============================] - 0s 202us/sample - loss: 0.0256 - mean_absolute_error: 0.1041 - val_loss: 0.1293 - val_mean_absolute_error: 0.2525\n",
      "Epoch 154/200\n",
      "504/504 [==============================] - 0s 219us/sample - loss: 0.0218 - mean_absolute_error: 0.0955 - val_loss: 0.1289 - val_mean_absolute_error: 0.2635\n",
      "Epoch 155/200\n",
      "504/504 [==============================] - 0s 221us/sample - loss: 0.0218 - mean_absolute_error: 0.0997 - val_loss: 0.1387 - val_mean_absolute_error: 0.2698\n",
      "Epoch 156/200\n",
      "504/504 [==============================] - 0s 193us/sample - loss: 0.0218 - mean_absolute_error: 0.0995 - val_loss: 0.1184 - val_mean_absolute_error: 0.2497\n",
      "Epoch 157/200\n",
      "504/504 [==============================] - 0s 215us/sample - loss: 0.0206 - mean_absolute_error: 0.0949 - val_loss: 0.1148 - val_mean_absolute_error: 0.2435\n",
      "Epoch 158/200\n",
      "504/504 [==============================] - 0s 175us/sample - loss: 0.0253 - mean_absolute_error: 0.1038 - val_loss: 0.1172 - val_mean_absolute_error: 0.2438\n",
      "Epoch 159/200\n",
      "504/504 [==============================] - 0s 198us/sample - loss: 0.0205 - mean_absolute_error: 0.0934 - val_loss: 0.1165 - val_mean_absolute_error: 0.2466\n",
      "Epoch 160/200\n",
      "504/504 [==============================] - 0s 333us/sample - loss: 0.0218 - mean_absolute_error: 0.0989 - val_loss: 0.1188 - val_mean_absolute_error: 0.2415\n",
      "Epoch 161/200\n",
      "504/504 [==============================] - 0s 196us/sample - loss: 0.0224 - mean_absolute_error: 0.0992 - val_loss: 0.1166 - val_mean_absolute_error: 0.2524\n",
      "Epoch 162/200\n",
      "504/504 [==============================] - 0s 204us/sample - loss: 0.0198 - mean_absolute_error: 0.0956 - val_loss: 0.1170 - val_mean_absolute_error: 0.2500\n",
      "Epoch 163/200\n",
      "504/504 [==============================] - 0s 185us/sample - loss: 0.0226 - mean_absolute_error: 0.1016 - val_loss: 0.1172 - val_mean_absolute_error: 0.2506\n",
      "Epoch 164/200\n",
      "504/504 [==============================] - 0s 200us/sample - loss: 0.0178 - mean_absolute_error: 0.0909 - val_loss: 0.1092 - val_mean_absolute_error: 0.2378\n",
      "Epoch 165/200\n",
      "504/504 [==============================] - 0s 224us/sample - loss: 0.0231 - mean_absolute_error: 0.0993 - val_loss: 0.1153 - val_mean_absolute_error: 0.2459\n",
      "Epoch 166/200\n",
      "504/504 [==============================] - 0s 200us/sample - loss: 0.0196 - mean_absolute_error: 0.0983 - val_loss: 0.1179 - val_mean_absolute_error: 0.2515\n",
      "Epoch 167/200\n",
      "504/504 [==============================] - 0s 232us/sample - loss: 0.0205 - mean_absolute_error: 0.0953 - val_loss: 0.1191 - val_mean_absolute_error: 0.2476\n",
      "Epoch 168/200\n",
      "504/504 [==============================] - 0s 235us/sample - loss: 0.0233 - mean_absolute_error: 0.1012 - val_loss: 0.1135 - val_mean_absolute_error: 0.2541\n",
      "Epoch 169/200\n",
      "504/504 [==============================] - 0s 249us/sample - loss: 0.0211 - mean_absolute_error: 0.0980 - val_loss: 0.1082 - val_mean_absolute_error: 0.2397\n",
      "Epoch 170/200\n",
      "504/504 [==============================] - 0s 248us/sample - loss: 0.0236 - mean_absolute_error: 0.1016 - val_loss: 0.1156 - val_mean_absolute_error: 0.2416\n",
      "Epoch 171/200\n",
      "504/504 [==============================] - 0s 217us/sample - loss: 0.0212 - mean_absolute_error: 0.0966 - val_loss: 0.1133 - val_mean_absolute_error: 0.2448\n",
      "Epoch 172/200\n",
      "504/504 [==============================] - 0s 248us/sample - loss: 0.0201 - mean_absolute_error: 0.0963 - val_loss: 0.1179 - val_mean_absolute_error: 0.2490\n",
      "Epoch 173/200\n",
      "504/504 [==============================] - 0s 226us/sample - loss: 0.0177 - mean_absolute_error: 0.0873 - val_loss: 0.1336 - val_mean_absolute_error: 0.2643\n",
      "Epoch 174/200\n",
      "504/504 [==============================] - 0s 229us/sample - loss: 0.0217 - mean_absolute_error: 0.0994 - val_loss: 0.1175 - val_mean_absolute_error: 0.2479\n",
      "Epoch 175/200\n",
      "504/504 [==============================] - 0s 234us/sample - loss: 0.0204 - mean_absolute_error: 0.0930 - val_loss: 0.1129 - val_mean_absolute_error: 0.2392\n",
      "Epoch 176/200\n",
      "504/504 [==============================] - 0s 210us/sample - loss: 0.0199 - mean_absolute_error: 0.0952 - val_loss: 0.1180 - val_mean_absolute_error: 0.2416\n",
      "Epoch 177/200\n",
      "504/504 [==============================] - 0s 262us/sample - loss: 0.0191 - mean_absolute_error: 0.0952 - val_loss: 0.1094 - val_mean_absolute_error: 0.2384\n",
      "Epoch 178/200\n",
      "504/504 [==============================] - 0s 272us/sample - loss: 0.0224 - mean_absolute_error: 0.0973 - val_loss: 0.1338 - val_mean_absolute_error: 0.2683\n",
      "Epoch 179/200\n",
      "504/504 [==============================] - 0s 239us/sample - loss: 0.0207 - mean_absolute_error: 0.0945 - val_loss: 0.1175 - val_mean_absolute_error: 0.2571\n",
      "Epoch 180/200\n",
      "504/504 [==============================] - 0s 218us/sample - loss: 0.0209 - mean_absolute_error: 0.0941 - val_loss: 0.1221 - val_mean_absolute_error: 0.2534\n",
      "Epoch 181/200\n",
      "504/504 [==============================] - 0s 206us/sample - loss: 0.0213 - mean_absolute_error: 0.0972 - val_loss: 0.1150 - val_mean_absolute_error: 0.2422\n",
      "Epoch 182/200\n",
      "504/504 [==============================] - 0s 228us/sample - loss: 0.0209 - mean_absolute_error: 0.0951 - val_loss: 0.1139 - val_mean_absolute_error: 0.2408\n",
      "Epoch 183/200\n",
      "504/504 [==============================] - 0s 220us/sample - loss: 0.0187 - mean_absolute_error: 0.0926 - val_loss: 0.1137 - val_mean_absolute_error: 0.2492\n",
      "Epoch 184/200\n",
      "504/504 [==============================] - 0s 212us/sample - loss: 0.0201 - mean_absolute_error: 0.0916 - val_loss: 0.1206 - val_mean_absolute_error: 0.2491\n",
      "Epoch 185/200\n",
      "504/504 [==============================] - 0s 222us/sample - loss: 0.0208 - mean_absolute_error: 0.0965 - val_loss: 0.1216 - val_mean_absolute_error: 0.2511\n",
      "Epoch 186/200\n",
      "504/504 [==============================] - 0s 242us/sample - loss: 0.0189 - mean_absolute_error: 0.0907 - val_loss: 0.1143 - val_mean_absolute_error: 0.2441\n",
      "Epoch 187/200\n",
      "504/504 [==============================] - 0s 232us/sample - loss: 0.0202 - mean_absolute_error: 0.0937 - val_loss: 0.1186 - val_mean_absolute_error: 0.2453\n",
      "Epoch 188/200\n",
      "504/504 [==============================] - 0s 175us/sample - loss: 0.0205 - mean_absolute_error: 0.0931 - val_loss: 0.1092 - val_mean_absolute_error: 0.2411\n",
      "Epoch 189/200\n",
      "504/504 [==============================] - 0s 236us/sample - loss: 0.0221 - mean_absolute_error: 0.0951 - val_loss: 0.1145 - val_mean_absolute_error: 0.2470\n",
      "Epoch 190/200\n",
      "504/504 [==============================] - 0s 165us/sample - loss: 0.0215 - mean_absolute_error: 0.0957 - val_loss: 0.1295 - val_mean_absolute_error: 0.2613\n"
     ]
    },
    {
     "name": "stdout",
     "output_type": "stream",
     "text": [
      "Epoch 191/200\n",
      "504/504 [==============================] - 0s 216us/sample - loss: 0.0210 - mean_absolute_error: 0.0908 - val_loss: 0.1196 - val_mean_absolute_error: 0.2445\n",
      "Epoch 192/200\n",
      "504/504 [==============================] - 0s 172us/sample - loss: 0.0228 - mean_absolute_error: 0.0958 - val_loss: 0.1170 - val_mean_absolute_error: 0.2456\n",
      "Epoch 193/200\n",
      "504/504 [==============================] - 0s 206us/sample - loss: 0.0190 - mean_absolute_error: 0.0910 - val_loss: 0.1122 - val_mean_absolute_error: 0.2517\n",
      "Epoch 194/200\n",
      "504/504 [==============================] - 0s 187us/sample - loss: 0.0197 - mean_absolute_error: 0.0921 - val_loss: 0.1188 - val_mean_absolute_error: 0.2550\n",
      "Epoch 195/200\n",
      "504/504 [==============================] - 0s 212us/sample - loss: 0.0190 - mean_absolute_error: 0.0920 - val_loss: 0.1203 - val_mean_absolute_error: 0.2451\n",
      "Epoch 196/200\n",
      "504/504 [==============================] - 0s 198us/sample - loss: 0.0216 - mean_absolute_error: 0.0942 - val_loss: 0.1161 - val_mean_absolute_error: 0.2389\n",
      "Epoch 197/200\n",
      "504/504 [==============================] - 0s 218us/sample - loss: 0.0209 - mean_absolute_error: 0.0931 - val_loss: 0.1097 - val_mean_absolute_error: 0.2417\n",
      "Epoch 198/200\n",
      "504/504 [==============================] - 0s 188us/sample - loss: 0.0196 - mean_absolute_error: 0.0922 - val_loss: 0.1079 - val_mean_absolute_error: 0.2336\n",
      "Epoch 199/200\n",
      "504/504 [==============================] - 0s 192us/sample - loss: 0.0200 - mean_absolute_error: 0.0958 - val_loss: 0.1142 - val_mean_absolute_error: 0.2505\n",
      "Epoch 200/200\n",
      "504/504 [==============================] - 0s 223us/sample - loss: 0.0174 - mean_absolute_error: 0.0836 - val_loss: 0.1237 - val_mean_absolute_error: 0.2567\n"
     ]
    }
   ],
   "source": [
    "history = network.fit(X_train,Y_train,epochs=200,validation_split=0.3, batch_size = 16)"
   ]
  },
  {
   "cell_type": "code",
   "execution_count": 23,
   "metadata": {},
   "outputs": [
    {
     "data": {
      "text/plain": [
       "dict_keys(['loss', 'mean_absolute_error', 'val_loss', 'val_mean_absolute_error'])"
      ]
     },
     "execution_count": 23,
     "metadata": {},
     "output_type": "execute_result"
    }
   ],
   "source": [
    "history.history.keys()"
   ]
  },
  {
   "cell_type": "code",
   "execution_count": 24,
   "metadata": {
    "colab": {
     "base_uri": "https://localhost:8080/"
    },
    "id": "Dke-NeOQtJ7Z",
    "outputId": "c747742c-a35c-489d-910c-49aec973df25"
   },
   "outputs": [
    {
     "name": "stdout",
     "output_type": "stream",
     "text": [
      "309/309 [==============================] - 0s 45us/sample - loss: 0.1351 - mean_absolute_error: 0.2521\n"
     ]
    }
   ],
   "source": [
    "loss,mae=network.evaluate(X_test,Y_test)"
   ]
  },
  {
   "cell_type": "code",
   "execution_count": 25,
   "metadata": {
    "colab": {
     "base_uri": "https://localhost:8080/"
    },
    "id": "CtycpTWetRiZ",
    "outputId": "c3c53923-6128-448f-a0ac-68b30a6eabaa"
   },
   "outputs": [
    {
     "ename": "KeyError",
     "evalue": "'val_mae'",
     "output_type": "error",
     "traceback": [
      "\u001b[1;31m---------------------------------------------------------------------------\u001b[0m",
      "\u001b[1;31mKeyError\u001b[0m                                  Traceback (most recent call last)",
      "\u001b[1;32m<ipython-input-25-5efa4d1825f4>\u001b[0m in \u001b[0;36m<module>\u001b[1;34m\u001b[0m\n\u001b[1;32m----> 1\u001b[1;33m \u001b[0mval_mae\u001b[0m \u001b[1;33m=\u001b[0m \u001b[0mhistory\u001b[0m\u001b[1;33m.\u001b[0m\u001b[0mhistory\u001b[0m\u001b[1;33m[\u001b[0m\u001b[1;34m'val_mae'\u001b[0m\u001b[1;33m]\u001b[0m\u001b[1;33m\u001b[0m\u001b[1;33m\u001b[0m\u001b[0m\n\u001b[0m\u001b[0;32m      2\u001b[0m \u001b[0mval_loss\u001b[0m \u001b[1;33m=\u001b[0m \u001b[0mhistory\u001b[0m\u001b[1;33m.\u001b[0m\u001b[0mhistory\u001b[0m\u001b[1;33m[\u001b[0m\u001b[1;34m'val_loss'\u001b[0m\u001b[1;33m]\u001b[0m\u001b[1;33m\u001b[0m\u001b[1;33m\u001b[0m\u001b[0m\n",
      "\u001b[1;31mKeyError\u001b[0m: 'val_mae'"
     ]
    }
   ],
   "source": [
    "val_mae = history.history['val_mae']\n",
    "val_loss = history.history['val_loss']"
   ]
  },
  {
   "cell_type": "code",
   "execution_count": 26,
   "metadata": {},
   "outputs": [
    {
     "data": {
      "image/png": "[encoded data removed]",
      "text/plain": [
       "<Figure size 432x288 with 1 Axes>"
      ]
     },
     "metadata": {
      "needs_background": "light"
     },
     "output_type": "display_data"
    }
   ],
   "source": [
    "import matplotlib.pyplot as plt \n",
    "history_dict = history.history\n",
    "loss_values = history_dict['loss']\n",
    "val_loss_values = history_dict['val_loss']\n",
    "epochs = range(200)\n",
    "plt.plot(epochs, loss_values, 'bo', label='Training loss')\n",
    "plt.plot(epochs, val_loss_values, 'b', label='Validation loss')\n",
    "plt.title('Training and validation loss')\n",
    "plt.xlabel('Epochs')\n",
    "plt.ylabel('Loss')\n",
    "plt.legend()\n",
    "plt.show()"
   ]
  },
  {
   "cell_type": "code",
   "execution_count": 28,
   "metadata": {
    "id": "AiZJuEX1tXIa"
   },
   "outputs": [],
   "source": [
    "y_pred = network.predict(X_test)"
   ]
  },
  {
   "cell_type": "code",
   "execution_count": 29,
   "metadata": {},
   "outputs": [],
   "source": [
    "def denorm(x):\n",
    "    return (x * Y_std) + Y_mean"
   ]
  },
  {
   "cell_type": "code",
   "execution_count": 30,
   "metadata": {},
   "outputs": [],
   "source": [
    "y_pred = denorm(y_pred)"
   ]
  },
  {
   "cell_type": "code",
   "execution_count": 31,
   "metadata": {},
   "outputs": [],
   "source": [
    "y_true = denorm(Y_test)"
   ]
  },
  {
   "cell_type": "code",
   "execution_count": 32,
   "metadata": {},
   "outputs": [],
   "source": [
    "y_pred = y_pred.flatten()"
   ]
  },
  {
   "cell_type": "code",
   "execution_count": 33,
   "metadata": {},
   "outputs": [
    {
     "data": {
      "text/plain": [
       "(309,)"
      ]
     },
     "execution_count": 33,
     "metadata": {},
     "output_type": "execute_result"
    }
   ],
   "source": [
    "y_pred.shape"
   ]
  },
  {
   "cell_type": "code",
   "execution_count": 34,
   "metadata": {},
   "outputs": [
    {
     "data": {
      "text/plain": [
       "(309,)"
      ]
     },
     "execution_count": 34,
     "metadata": {},
     "output_type": "execute_result"
    }
   ],
   "source": [
    "y_true.shape"
   ]
  },
  {
   "cell_type": "code",
   "execution_count": 35,
   "metadata": {},
   "outputs": [
    {
     "data": {
      "text/plain": [
       "(0.0, 100.0)"
      ]
     },
     "execution_count": 35,
     "metadata": {},
     "output_type": "execute_result"
    },
    {
     "data": {
      "image/png": "[encoded data removed]",
      "text/plain": [
       "<Figure size 432x288 with 1 Axes>"
      ]
     },
     "metadata": {
      "needs_background": "light"
     },
     "output_type": "display_data"
    }
   ],
   "source": [
    "import numpy as np\n",
    "import matplotlib.pyplot as plt\n",
    "coef = np.polyfit(y_true,y_pred,1)\n",
    "poly1d_fn = np.poly1d(coef) \n",
    "# poly1d_fn is now a function which takes in x and returns an estimate for y\n",
    "plt.plot(y_true,y_pred, 'yo', y_true, poly1d_fn(y_true), '--k')\n",
    "plt.xlim(0, 100)\n",
    "plt.ylim(0, 100)"
   ]
  }
 ],
 "metadata": {
  "accelerator": "TPU",
  "colab": {
   "collapsed_sections": [],
   "name": "Concrete.ipynb",
   "provenance": [],
   "toc_visible": true
  },
  "kernelspec": {
   "display_name": "Python 3",
   "language": "python",
   "name": "python3"
  },
  "language_info": {
   "codemirror_mode": {
    "name": "ipython",
    "version": 3
   },
   "file_extension": ".py",
   "mimetype": "text/x-python",
   "name": "python",
   "nbconvert_exporter": "python",
   "pygments_lexer": "ipython3",
   "version": "3.7.7"
  }
 },
 "nbformat": 4,
 "nbformat_minor": 1
}
